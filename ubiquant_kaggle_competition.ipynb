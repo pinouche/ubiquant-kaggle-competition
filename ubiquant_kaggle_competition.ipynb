{
 "cells": [
  {
   "cell_type": "code",
   "execution_count": 1,
   "id": "b45ed68a",
   "metadata": {
    "_cell_guid": "b1076dfc-b9ad-4769-8c92-a6c4dae69d19",
    "_uuid": "8f2839f25d086af736a60e9eeb907d3b93b6e0e5",
    "execution": {
     "iopub.execute_input": "2022-04-18T21:57:33.290339Z",
     "iopub.status.busy": "2022-04-18T21:57:33.288588Z",
     "iopub.status.idle": "2022-04-18T21:57:35.214162Z",
     "shell.execute_reply": "2022-04-18T21:57:35.214725Z"
    },
    "papermill": {
     "duration": 1.942097,
     "end_time": "2022-04-18T21:57:35.215039",
     "exception": false,
     "start_time": "2022-04-18T21:57:33.272942",
     "status": "completed"
    },
    "tags": []
   },
   "outputs": [
    {
     "data": {
      "text/html": [
       "<style type='text/css'>\n",
       ".datatable table.frame { margin-bottom: 0; }\n",
       ".datatable table.frame thead { border-bottom: none; }\n",
       ".datatable table.frame tr.coltypes td {  color: #FFFFFF;  line-height: 6px;  padding: 0 0.5em;}\n",
       ".datatable .bool    { background: #DDDD99; }\n",
       ".datatable .object  { background: #565656; }\n",
       ".datatable .int     { background: #5D9E5D; }\n",
       ".datatable .float   { background: #4040CC; }\n",
       ".datatable .str     { background: #CC4040; }\n",
       ".datatable .time    { background: #40CC40; }\n",
       ".datatable .row_index {  background: var(--jp-border-color3);  border-right: 1px solid var(--jp-border-color0);  color: var(--jp-ui-font-color3);  font-size: 9px;}\n",
       ".datatable .frame tbody td { text-align: left; }\n",
       ".datatable .frame tr.coltypes .row_index {  background: var(--jp-border-color0);}\n",
       ".datatable th:nth-child(2) { padding-left: 12px; }\n",
       ".datatable .hellipsis {  color: var(--jp-cell-editor-border-color);}\n",
       ".datatable .vellipsis {  background: var(--jp-layout-color0);  color: var(--jp-cell-editor-border-color);}\n",
       ".datatable .na {  color: var(--jp-cell-editor-border-color);  font-size: 80%;}\n",
       ".datatable .sp {  opacity: 0.25;}\n",
       ".datatable .footer { font-size: 9px; }\n",
       ".datatable .frame_dimensions {  background: var(--jp-border-color3);  border-top: 1px solid var(--jp-border-color0);  color: var(--jp-ui-font-color3);  display: inline-block;  opacity: 0.6;  padding: 1px 10px 1px 5px;}\n",
       "</style>\n"
      ],
      "text/plain": [
       "<IPython.core.display.HTML object>"
      ]
     },
     "metadata": {},
     "output_type": "display_data"
    }
   ],
   "source": [
    "import numpy as np\n",
    "import pandas as pd \n",
    "import os\n",
    "import pickle\n",
    "from random import randrange\n",
    "\n",
    "from sklearn.decomposition import PCA\n",
    "from sklearn.preprocessing import scale\n",
    "\n",
    "import lightgbm as lgb\n",
    "from lightgbm import LGBMRegressor, early_stopping\n",
    "\n",
    "from scipy.stats import pearsonr\n",
    "from scipy.stats import skew, kurtosis\n",
    "from sklearn.metrics import mean_absolute_error, mean_squared_error"
   ]
  },
  {
   "cell_type": "markdown",
   "id": "29764575",
   "metadata": {
    "execution": {
     "iopub.execute_input": "2022-01-30T11:59:13.145406Z",
     "iopub.status.busy": "2022-01-30T11:59:13.145109Z",
     "iopub.status.idle": "2022-01-30T11:59:13.149859Z",
     "shell.execute_reply": "2022-01-30T11:59:13.148926Z",
     "shell.execute_reply.started": "2022-01-30T11:59:13.145375Z"
    },
    "papermill": {
     "duration": 0.010191,
     "end_time": "2022-04-18T21:57:35.238692",
     "exception": false,
     "start_time": "2022-04-18T21:57:35.228501",
     "status": "completed"
    },
    "tags": []
   },
   "source": [
    "# preprocessing"
   ]
  },
  {
   "cell_type": "code",
   "execution_count": 2,
   "id": "886cc6de",
   "metadata": {
    "execution": {
     "iopub.execute_input": "2022-04-18T21:57:35.266203Z",
     "iopub.status.busy": "2022-04-18T21:57:35.265600Z",
     "iopub.status.idle": "2022-04-18T21:57:35.267418Z",
     "shell.execute_reply": "2022-04-18T21:57:35.267877Z"
    },
    "papermill": {
     "duration": 0.019518,
     "end_time": "2022-04-18T21:57:35.268036",
     "exception": false,
     "start_time": "2022-04-18T21:57:35.248518",
     "status": "completed"
    },
    "tags": []
   },
   "outputs": [],
   "source": [
    "def compute_rank_percentile(df, features, pca):\n",
    "    \n",
    "    def lambda_rank_percentile(d):\n",
    "        \n",
    "        n = d.shape[0]-1\n",
    "        d = np.argsort(np.argsort(d, axis=0), axis=0)/n\n",
    "        \n",
    "        return d\n",
    "    \n",
    "    data = df.groupby(\"time_id\").apply(lambda x: lambda_rank_percentile(pca.transform(x[features])))\n",
    "    data = np.concatenate(data.values)\n",
    "\n",
    "    df[[f\"f_quantilized_{i}\" for i in range(data.shape[1])]] = data\n",
    "    \n",
    "    return df"
   ]
  },
  {
   "cell_type": "code",
   "execution_count": 3,
   "id": "aedef3da",
   "metadata": {
    "execution": {
     "iopub.execute_input": "2022-04-18T21:57:35.290956Z",
     "iopub.status.busy": "2022-04-18T21:57:35.290333Z",
     "iopub.status.idle": "2022-04-18T21:57:35.294596Z",
     "shell.execute_reply": "2022-04-18T21:57:35.295005Z"
    },
    "papermill": {
     "duration": 0.017068,
     "end_time": "2022-04-18T21:57:35.295179",
     "exception": false,
     "start_time": "2022-04-18T21:57:35.278111",
     "status": "completed"
    },
    "tags": []
   },
   "outputs": [],
   "source": [
    "def scale_by_time_id(df, features):\n",
    "    \n",
    "    def lambda_scale(d):\n",
    "        \n",
    "        d = scale(d)\n",
    "\n",
    "        return d\n",
    "    \n",
    "    data = df.groupby(\"time_id\").apply(lambda x: lambda_scale(x[features]))\n",
    "    data = np.concatenate(data.values)\n",
    "    \n",
    "    df[features] = data\n",
    "    \n",
    "    return df"
   ]
  },
  {
   "cell_type": "code",
   "execution_count": 4,
   "id": "f0058ee5",
   "metadata": {
    "execution": {
     "iopub.execute_input": "2022-04-18T21:57:35.321993Z",
     "iopub.status.busy": "2022-04-18T21:57:35.321410Z",
     "iopub.status.idle": "2022-04-18T21:57:35.324267Z",
     "shell.execute_reply": "2022-04-18T21:57:35.323752Z"
    },
    "papermill": {
     "duration": 0.019157,
     "end_time": "2022-04-18T21:57:35.324402",
     "exception": false,
     "start_time": "2022-04-18T21:57:35.305245",
     "status": "completed"
    },
    "tags": []
   },
   "outputs": [],
   "source": [
    "def modify_predictions(std_preds):\n",
    "\n",
    "    cutoff_one = np.quantile(std_preds, 0.04)\n",
    "\n",
    "    std_preds[std_preds >= cutoff_one] = 1.5**std_preds[std_preds >= cutoff_one]\n",
    "    std_preds[std_preds < cutoff_one] = std_preds[std_preds < cutoff_one] + (np.min(std_preds[std_preds >= cutoff_one]) - cutoff_one)\n",
    "\n",
    "    cutoff_two = np.quantile(std_preds, 0.9)\n",
    "\n",
    "    std_preds[std_preds >= cutoff_two] = 1.6**std_preds[std_preds >= cutoff_two]\n",
    "    std_preds[std_preds < cutoff_two] = std_preds[std_preds < cutoff_two] + (np.min(std_preds[std_preds >= cutoff_two]) - cutoff_two)\n",
    "    \n",
    "    return std_preds"
   ]
  },
  {
   "cell_type": "markdown",
   "id": "65ab0243",
   "metadata": {
    "papermill": {
     "duration": 0.010042,
     "end_time": "2022-04-18T21:57:35.344581",
     "exception": false,
     "start_time": "2022-04-18T21:57:35.334539",
     "status": "completed"
    },
    "tags": []
   },
   "source": [
    "# target features"
   ]
  },
  {
   "cell_type": "code",
   "execution_count": 5,
   "id": "4301fc77",
   "metadata": {
    "execution": {
     "iopub.execute_input": "2022-04-18T21:57:35.372447Z",
     "iopub.status.busy": "2022-04-18T21:57:35.367127Z",
     "iopub.status.idle": "2022-04-18T21:57:35.375086Z",
     "shell.execute_reply": "2022-04-18T21:57:35.374560Z"
    },
    "papermill": {
     "duration": 0.020316,
     "end_time": "2022-04-18T21:57:35.375223",
     "exception": false,
     "start_time": "2022-04-18T21:57:35.354907",
     "status": "completed"
    },
    "tags": []
   },
   "outputs": [],
   "source": [
    "def get_aggregated_dataset(df, col_features_org, agg_method): \n",
    "\n",
    "    if agg_method == \"mean\":\n",
    "        agg_train = df.groupby(\"time_id\").apply(lambda x: np.mean(x[col_features_org])).apply(pd.Series)\n",
    "    elif agg_method == \"std\":\n",
    "        agg_train = df.groupby(\"time_id\").apply(lambda x: np.std(x[col_features_org])).apply(pd.Series)\n",
    "    elif agg_method == \"skew\":\n",
    "        agg_train = df.groupby(\"time_id\").apply(lambda x: skew(x[col_features_org])).apply(pd.Series)\n",
    "    elif agg_method == \"kurtosis\":\n",
    "        agg_train = df.groupby(\"time_id\").apply(lambda x: kurtosis(x[col_features_org])).apply(pd.Series)\n",
    "    else:\n",
    "        agg_train = df.groupby(\"time_id\").apply(lambda x: np.quantile(x[col_features_org], agg_method, 0)).apply(pd.Series)\n",
    "\n",
    "    agg_train.columns = col_features_org\n",
    "    \n",
    "    return agg_train"
   ]
  },
  {
   "cell_type": "code",
   "execution_count": 6,
   "id": "6e4d00f2",
   "metadata": {
    "execution": {
     "iopub.execute_input": "2022-04-18T21:57:35.403261Z",
     "iopub.status.busy": "2022-04-18T21:57:35.402633Z",
     "iopub.status.idle": "2022-04-18T21:57:35.405097Z",
     "shell.execute_reply": "2022-04-18T21:57:35.404651Z"
    },
    "papermill": {
     "duration": 0.019195,
     "end_time": "2022-04-18T21:57:35.405233",
     "exception": false,
     "start_time": "2022-04-18T21:57:35.386038",
     "status": "completed"
    },
    "tags": []
   },
   "outputs": [],
   "source": [
    "def add_target_features(df, col_features_org, model_list):\n",
    "    \n",
    "    target_pred = []\n",
    "    \n",
    "    # quantile_list = list(np.arange(0, 1.01, 0.01))\n",
    "    # list_agg_method = [\"mean\", \"std\", \"skew\", \"kurtosis\"] + quantile_list\n",
    "    \n",
    "    list_agg_method = [\"skew\", \"kurtosis\"]\n",
    "    \n",
    "    for method in list_agg_method:\n",
    "\n",
    "        agg_df = get_aggregated_dataset(df, col_features_org, method)\n",
    "\n",
    "        predictions = np.mean(np.array([m.predict(agg_df) for m in models_quantiles]), axis=0)\n",
    "\n",
    "        target_pred.append(predictions)\n",
    "    \n",
    "    target_pred = np.expand_dims(np.array(target_pred), axis=1)\n",
    "        \n",
    "    df.loc[:, [f\"f_target_{f}\" for f in  [\"skew\", \"kurtosis\"]]] = np.squeeze(np.transpose(np.repeat(np.array(target_pred), df.shape[0], axis=1)))\n",
    "    \n",
    "    return df"
   ]
  },
  {
   "cell_type": "markdown",
   "id": "6742f63c",
   "metadata": {
    "papermill": {
     "duration": 0.010177,
     "end_time": "2022-04-18T21:57:35.425670",
     "exception": false,
     "start_time": "2022-04-18T21:57:35.415493",
     "status": "completed"
    },
    "tags": []
   },
   "source": [
    "# loss function"
   ]
  },
  {
   "cell_type": "code",
   "execution_count": 7,
   "id": "17885f80",
   "metadata": {
    "execution": {
     "iopub.execute_input": "2022-04-18T21:57:35.456932Z",
     "iopub.status.busy": "2022-04-18T21:57:35.456234Z",
     "iopub.status.idle": "2022-04-18T21:57:35.458975Z",
     "shell.execute_reply": "2022-04-18T21:57:35.458487Z"
    },
    "papermill": {
     "duration": 0.022938,
     "end_time": "2022-04-18T21:57:35.459102",
     "exception": false,
     "start_time": "2022-04-18T21:57:35.436164",
     "status": "completed"
    },
    "tags": []
   },
   "outputs": [],
   "source": [
    "def mse_minus_cov_objective(y_true, y_pred):\n",
    "    \n",
    "    if not val:\n",
    "        \n",
    "        corr_list = []\n",
    "        current_index = 0\n",
    "\n",
    "        for i in repeat_array_train:\n",
    "            corr = pearsonr(y_true[current_index:current_index+i], y_pred[current_index:current_index+i])[0]\n",
    "\n",
    "            corr_list.append(corr)\n",
    "            current_index += i\n",
    "        score = np.mean(corr_list)\n",
    "        \n",
    "    if (not val) and (score-score_to_match) > 0.0001:\n",
    "        grad_list = np.repeat(np.array([0]), np.sum(repeat_array_train))\n",
    "        hess_list = np.repeat(np.array([0]), np.sum(repeat_array_train))\n",
    "        \n",
    "    else:\n",
    "        \n",
    "        grad_list = []\n",
    "        hess_list = []\n",
    "\n",
    "        mean_true, std_true = np.mean(y_true), np.std(y_true)\n",
    "\n",
    "        current_index = 0\n",
    "        for i in repeat_array_train:\n",
    "\n",
    "            y_true_sub = y_true[current_index:current_index+i]\n",
    "            y_pred_sub = y_pred[current_index:current_index+i]\n",
    "\n",
    "            e = (y_true_sub - y_pred_sub)**2\n",
    "\n",
    "            q_e = np.quantile(e, 0.99)\n",
    "\n",
    "            grad = -2*(y_true_sub - y_pred_sub)\n",
    "            hess = np.repeat(2, grad.shape[0])\n",
    "\n",
    "            diff = e - q_e\n",
    "            mask = diff > 0\n",
    "\n",
    "            grad[mask] = grad[mask]/(1+(diff[mask]))\n",
    "            # hess[mask] = hess[mask]/(1+2*np.abs(hess[mask]))\n",
    "\n",
    "            grad_list.append(grad)\n",
    "            hess_list.append(hess)\n",
    "\n",
    "            current_index += i\n",
    "\n",
    "        grad_list = np.concatenate(np.array(grad_list))\n",
    "        hess_list = np.concatenate(np.array(hess_list))\n",
    "    \n",
    "    return grad_list, hess_list"
   ]
  },
  {
   "cell_type": "markdown",
   "id": "f1908a05",
   "metadata": {
    "papermill": {
     "duration": 0.0103,
     "end_time": "2022-04-18T21:57:35.479990",
     "exception": false,
     "start_time": "2022-04-18T21:57:35.469690",
     "status": "completed"
    },
    "tags": []
   },
   "source": [
    "# make predictions in the environment"
   ]
  },
  {
   "cell_type": "code",
   "execution_count": 8,
   "id": "05613830",
   "metadata": {
    "execution": {
     "iopub.execute_input": "2022-04-18T21:57:35.505185Z",
     "iopub.status.busy": "2022-04-18T21:57:35.504528Z",
     "iopub.status.idle": "2022-04-18T21:57:38.932858Z",
     "shell.execute_reply": "2022-04-18T21:57:38.932207Z"
    },
    "papermill": {
     "duration": 3.442674,
     "end_time": "2022-04-18T21:57:38.933013",
     "exception": false,
     "start_time": "2022-04-18T21:57:35.490339",
     "status": "completed"
    },
    "tags": []
   },
   "outputs": [
    {
     "name": "stderr",
     "output_type": "stream",
     "text": [
      "/opt/conda/lib/python3.7/site-packages/sklearn/base.py:334: UserWarning: Trying to unpickle estimator PCA from version 1.0.2 when using version 0.23.2. This might lead to breaking code or invalid results. Use at your own risk.\n",
      "  UserWarning)\n"
     ]
    }
   ],
   "source": [
    "pca = pickle.load(open('../input/pickle-files/pca_train.p', \"rb\"))\n",
    "models_quantiles = pickle.load(open('../input/pickle-files/list_models_quantiles_scaled.p', \"rb\"))"
   ]
  },
  {
   "cell_type": "code",
   "execution_count": 9,
   "id": "8cfe65fc",
   "metadata": {
    "execution": {
     "iopub.execute_input": "2022-04-18T21:57:38.960027Z",
     "iopub.status.busy": "2022-04-18T21:57:38.959382Z",
     "iopub.status.idle": "2022-04-18T21:57:38.962278Z",
     "shell.execute_reply": "2022-04-18T21:57:38.962696Z"
    },
    "papermill": {
     "duration": 0.018801,
     "end_time": "2022-04-18T21:57:38.962886",
     "exception": false,
     "start_time": "2022-04-18T21:57:38.944085",
     "status": "completed"
    },
    "tags": []
   },
   "outputs": [],
   "source": [
    "models_quantiles = np.concatenate(models_quantiles)"
   ]
  },
  {
   "cell_type": "code",
   "execution_count": 10,
   "id": "0e660ba7",
   "metadata": {
    "execution": {
     "iopub.execute_input": "2022-04-18T21:57:38.989862Z",
     "iopub.status.busy": "2022-04-18T21:57:38.989237Z",
     "iopub.status.idle": "2022-04-18T21:57:53.172180Z",
     "shell.execute_reply": "2022-04-18T21:57:53.171667Z"
    },
    "papermill": {
     "duration": 14.196695,
     "end_time": "2022-04-18T21:57:53.172324",
     "exception": false,
     "start_time": "2022-04-18T21:57:38.975629",
     "status": "completed"
    },
    "tags": []
   },
   "outputs": [],
   "source": [
    "model_list = []\n",
    "\n",
    "for f in os.listdir(\"../input/models-056/\"):\n",
    "    path = f\"../input/models-056/{f}\"\n",
    "    b = lgb.Booster(model_file = path)\n",
    "    \n",
    "    model_list.append(b)\n",
    "    \n",
    "for f in os.listdir(\"../input/models-044/\"):\n",
    "    path = f\"../input/models-044/{f}\"\n",
    "    b = lgb.Booster(model_file = path)\n",
    "    \n",
    "    model_list.append(b)"
   ]
  },
  {
   "cell_type": "code",
   "execution_count": 11,
   "id": "50f692e6",
   "metadata": {
    "execution": {
     "iopub.execute_input": "2022-04-18T21:57:53.199602Z",
     "iopub.status.busy": "2022-04-18T21:57:53.198870Z",
     "iopub.status.idle": "2022-04-18T21:57:53.221340Z",
     "shell.execute_reply": "2022-04-18T21:57:53.220758Z"
    },
    "papermill": {
     "duration": 0.037936,
     "end_time": "2022-04-18T21:57:53.221479",
     "exception": false,
     "start_time": "2022-04-18T21:57:53.183543",
     "status": "completed"
    },
    "tags": []
   },
   "outputs": [],
   "source": [
    "import ubiquant"
   ]
  },
  {
   "cell_type": "code",
   "execution_count": 12,
   "id": "9816cec0",
   "metadata": {
    "execution": {
     "iopub.execute_input": "2022-04-18T21:57:53.250115Z",
     "iopub.status.busy": "2022-04-18T21:57:53.249378Z",
     "iopub.status.idle": "2022-04-18T21:57:53.251690Z",
     "shell.execute_reply": "2022-04-18T21:57:53.252138Z"
    },
    "papermill": {
     "duration": 0.019062,
     "end_time": "2022-04-18T21:57:53.252304",
     "exception": false,
     "start_time": "2022-04-18T21:57:53.233242",
     "status": "completed"
    },
    "tags": []
   },
   "outputs": [],
   "source": [
    "env = ubiquant.make_env()  \n",
    "iter_test = env.iter_test() "
   ]
  },
  {
   "cell_type": "code",
   "execution_count": 13,
   "id": "a23ff0ab",
   "metadata": {
    "execution": {
     "iopub.execute_input": "2022-04-18T21:57:53.283133Z",
     "iopub.status.busy": "2022-04-18T21:57:53.282391Z",
     "iopub.status.idle": "2022-04-18T21:57:54.719647Z",
     "shell.execute_reply": "2022-04-18T21:57:54.720136Z"
    },
    "papermill": {
     "duration": 1.456608,
     "end_time": "2022-04-18T21:57:54.720302",
     "exception": false,
     "start_time": "2022-04-18T21:57:53.263694",
     "status": "completed"
    },
    "tags": []
   },
   "outputs": [
    {
     "name": "stdout",
     "output_type": "stream",
     "text": [
      "This version of the API is not optimized and should not be used to estimate the runtime of your code on the hidden test set.\n"
     ]
    },
    {
     "name": "stderr",
     "output_type": "stream",
     "text": [
      "/opt/conda/lib/python3.7/site-packages/pandas/core/frame.py:3678: PerformanceWarning: DataFrame is highly fragmented.  This is usually the result of calling `frame.insert` many times, which has poor performance.  Consider joining all columns at once using pd.concat(axis=1) instead.  To get a de-fragmented frame, use `newframe = frame.copy()`\n",
      "  self[col] = igetitem(value, i)\n",
      "/opt/conda/lib/python3.7/site-packages/pandas/core/frame.py:3678: PerformanceWarning: DataFrame is highly fragmented.  This is usually the result of calling `frame.insert` many times, which has poor performance.  Consider joining all columns at once using pd.concat(axis=1) instead.  To get a de-fragmented frame, use `newframe = frame.copy()`\n",
      "  self[col] = igetitem(value, i)\n",
      "/opt/conda/lib/python3.7/site-packages/pandas/core/frame.py:3678: PerformanceWarning: DataFrame is highly fragmented.  This is usually the result of calling `frame.insert` many times, which has poor performance.  Consider joining all columns at once using pd.concat(axis=1) instead.  To get a de-fragmented frame, use `newframe = frame.copy()`\n",
      "  self[col] = igetitem(value, i)\n",
      "/opt/conda/lib/python3.7/site-packages/ipykernel_launcher.py:6: RuntimeWarning: invalid value encountered in true_divide\n",
      "  \n",
      "/opt/conda/lib/python3.7/site-packages/pandas/core/frame.py:3678: PerformanceWarning: DataFrame is highly fragmented.  This is usually the result of calling `frame.insert` many times, which has poor performance.  Consider joining all columns at once using pd.concat(axis=1) instead.  To get a de-fragmented frame, use `newframe = frame.copy()`\n",
      "  self[col] = igetitem(value, i)\n"
     ]
    }
   ],
   "source": [
    "col_features_org = [f\"f_{i}\" for i in range(300)]\n",
    "\n",
    "for (test_df, sample_prediction_df) in iter_test:\n",
    "    \n",
    "    cols = test_df.columns\n",
    "    if \"time_id\" not in cols:\n",
    "        test_df.insert(0, \"time_id\", np.repeat(0, test_df.shape[0]))\n",
    "    \n",
    "    # add the moments and quantiles\n",
    "    test_df = test_df.groupby(\"time_id\").apply(lambda x: add_target_features(x, col_features_org, models_quantiles))\n",
    "    \n",
    "    # quantilized data\n",
    "    test_df = compute_rank_percentile(test_df, col_features_org, pca)\n",
    "    test_df = scale_by_time_id(test_df, col_features_org)\n",
    "    \n",
    "    features = [col for col in test_df.columns if \"f_\" in col]\n",
    "\n",
    "    preds = np.mean(np.array([m.predict(test_df[features]) for m in model_list]), axis=0)\n",
    "    preds = modify_predictions(preds)\n",
    "    \n",
    "    sample_prediction_df['target'] = preds  # make your predictions here\n",
    "\n",
    "    env.predict(sample_prediction_df)   # register your predictions\n"
   ]
  },
  {
   "cell_type": "code",
   "execution_count": null,
   "id": "721616b2",
   "metadata": {
    "papermill": {
     "duration": 0.012266,
     "end_time": "2022-04-18T21:57:54.745390",
     "exception": false,
     "start_time": "2022-04-18T21:57:54.733124",
     "status": "completed"
    },
    "tags": []
   },
   "outputs": [],
   "source": []
  }
 ],
 "metadata": {
  "kernelspec": {
   "display_name": "Python 3",
   "language": "python",
   "name": "python3"
  },
  "language_info": {
   "codemirror_mode": {
    "name": "ipython",
    "version": 3
   },
   "file_extension": ".py",
   "mimetype": "text/x-python",
   "name": "python",
   "nbconvert_exporter": "python",
   "pygments_lexer": "ipython3",
   "version": "3.7.12"
  },
  "papermill": {
   "default_parameters": {},
   "duration": 30.64541,
   "end_time": "2022-04-18T21:57:55.568621",
   "environment_variables": {},
   "exception": null,
   "input_path": "__notebook__.ipynb",
   "output_path": "__notebook__.ipynb",
   "parameters": {},
   "start_time": "2022-04-18T21:57:24.923211",
   "version": "2.3.3"
  }
 },
 "nbformat": 4,
 "nbformat_minor": 5
}
